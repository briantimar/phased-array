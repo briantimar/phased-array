{
 "cells": [
  {
   "cell_type": "code",
   "execution_count": 1,
   "metadata": {},
   "outputs": [],
   "source": [
    "import numpy as np\n",
    "import matplotlib.pyplot as plt\n",
    "import torch\n",
    "import torch.nn as nn"
   ]
  },
  {
   "cell_type": "code",
   "execution_count": 2,
   "metadata": {},
   "outputs": [],
   "source": [
    "from model import make_envelope_1d, model1D, make_loss_fn,  power"
   ]
  },
  {
   "cell_type": "code",
   "execution_count": 3,
   "metadata": {},
   "outputs": [],
   "source": [
    "M = 10\n",
    "N = 2*M + 1\n",
    "s = .5\n",
    "phase_grad = .1 * 2 * np.pi \n",
    "lcl_phases = np.arange(-M, M+1) * phase_grad\n",
    "lcl_patterns = [lambda theta: 1 for _ in range(N)]\n",
    "weights = np.ones(N) / N\n"
   ]
  },
  {
   "cell_type": "code",
   "execution_count": 4,
   "metadata": {},
   "outputs": [],
   "source": [
    "A = make_envelope_1d(s, lcl_phases, lcl_patterns, weights)"
   ]
  },
  {
   "cell_type": "code",
   "execution_count": 5,
   "metadata": {},
   "outputs": [],
   "source": [
    "Nsamp = 1000\n",
    "theta = np.linspace(-np.pi/2, np.pi/2, Nsamp)\n",
    "amps = np.asarray([A(t) for t in theta])"
   ]
  },
  {
   "cell_type": "code",
   "execution_count": 6,
   "metadata": {},
   "outputs": [],
   "source": [
    "P = np.abs(amps)**2"
   ]
  },
  {
   "cell_type": "code",
   "execution_count": 7,
   "metadata": {},
   "outputs": [
    {
     "data": {
      "text/plain": [
       "[<matplotlib.lines.Line2D at 0x11c3ed5c0>]"
      ]
     },
     "execution_count": 7,
     "metadata": {},
     "output_type": "execute_result"
    },
    {
     "data": {
      "image/png": "[encoded data removed]",
      "text/plain": [
       "<Figure size 432x288 with 1 Axes>"
      ]
     },
     "metadata": {
      "needs_background": "light"
     },
     "output_type": "display_data"
    }
   ],
   "source": [
    "fig, ax = plt.subplots()\n",
    "ax.plot(theta, P)"
   ]
  },
  {
   "cell_type": "markdown",
   "metadata": {},
   "source": [
    "### Can you match a simple zero-deflection distribution?"
   ]
  },
  {
   "cell_type": "code",
   "execution_count": 8,
   "metadata": {},
   "outputs": [],
   "source": [
    "#number of choices per element for each real-valued output\n",
    "resolution = 128\n",
    "#number of elements\n",
    "M = 10\n",
    "N = 2 * M + 1\n",
    "# resolution at which power distribution is sampled\n",
    "power_resolution = 100"
   ]
  },
  {
   "cell_type": "code",
   "execution_count": 9,
   "metadata": {},
   "outputs": [],
   "source": [
    "model = model1D(power_resolution, N)"
   ]
  },
  {
   "cell_type": "code",
   "execution_count": 10,
   "metadata": {},
   "outputs": [],
   "source": [
    "from torch.optim import SGD\n"
   ]
  },
  {
   "cell_type": "code",
   "execution_count": 11,
   "metadata": {},
   "outputs": [],
   "source": [
    "lr = .005\n",
    "steps = 10000\n",
    "batch_size = 16"
   ]
  },
  {
   "cell_type": "code",
   "execution_count": 12,
   "metadata": {},
   "outputs": [],
   "source": [
    "opt = SGD(model.parameters(), lr=lr)"
   ]
  },
  {
   "cell_type": "code",
   "execution_count": 13,
   "metadata": {},
   "outputs": [],
   "source": [
    "losses = []\n",
    "power_losses = []\n",
    "powers = []\n",
    "phases = []\n",
    "wts = []"
   ]
  },
  {
   "cell_type": "code",
   "execution_count": 14,
   "metadata": {},
   "outputs": [],
   "source": [
    "fixed_phases = np.zeros(N)\n",
    "s = .5\n",
    "lcl_patterns = [lambda t: 1 for _ in range(N)]\n",
    "theta_vals = np.linspace(-np.pi/2, np.pi/2, power_resolution)\n",
    "lossfn = make_loss_fn(s, fixed_phases, lcl_patterns, theta_vals)\n"
   ]
  },
  {
   "cell_type": "code",
   "execution_count": 15,
   "metadata": {},
   "outputs": [],
   "source": [
    "phase_grad = 0.0 * 2 * np.pi \n",
    "lcl_phases = np.arange(-M, M+1) * phase_grad\n",
    "\n",
    "env_target = make_envelope_1d(s, lcl_phases, lcl_patterns, np.ones(N)/N)\n",
    "Ptarget = power(env_target, theta_vals)"
   ]
  },
  {
   "cell_type": "code",
   "execution_count": 16,
   "metadata": {},
   "outputs": [
    {
     "data": {
      "text/plain": [
       "[<matplotlib.lines.Line2D at 0x11c50fbe0>]"
      ]
     },
     "execution_count": 16,
     "metadata": {},
     "output_type": "execute_result"
    },
    {
     "data": {
      "image/png": "[encoded data removed]",
      "text/plain": [
       "<Figure size 432x288 with 1 Axes>"
      ]
     },
     "metadata": {
      "needs_background": "light"
     },
     "output_type": "display_data"
    }
   ],
   "source": [
    "fig, ax =plt.subplots()\n",
    "ax.plot(theta_vals/np.pi, Ptarget)"
   ]
  },
  {
   "cell_type": "code",
   "execution_count": 17,
   "metadata": {},
   "outputs": [],
   "source": [
    "for i in range(steps):\n",
    "    p = torch.tensor(Ptarget).to(dtype=torch.float).unsqueeze(0)\n",
    "    # batch of input distributions\n",
    "    inputs = p.expand(batch_size, power_resolution)\n",
    "    phase_dist, wt_dist = model(inputs)\n",
    "    phase_idx = phase_dist.sample()\n",
    "    wt_idx = wt_dist.sample()\n",
    "    \n",
    "    phase_lp = phase_dist.log_prob(phase_idx).sum(dim=1)\n",
    "    wt_lp = wt_dist.log_prob(wt_idx).sum(dim=1)\n",
    "    \n",
    "    #batch, N array of phases\n",
    "    phase = 2 * np.pi * phase_idx.numpy() / resolution\n",
    "    #batch, N array of relative weights\n",
    "    wt = (wt_idx.to(dtype=torch.float) - resolution/2).softmax(1).numpy()\n",
    "\n",
    "    # (batch,) tensor of power loss values.\n",
    "    power_loss = torch.tensor(lossfn(phase, wt, Ptarget), dtype=torch.float)\n",
    "    loss = (power_loss * (phase_lp + wt_lp)).mean()\n",
    "    \n",
    "    losses.append(loss.detach().item())\n",
    "    \n",
    "    model.zero_grad()\n",
    "    loss.backward()\n",
    "    opt.step()\n",
    "    \n",
    "    if i % 10 == 0:\n",
    "        env = make_envelope_1d(s, fixed_phases + phase[-1, :], lcl_patterns, wt[-1, :])\n",
    "        powers.append(power(env, theta_vals))\n",
    "        phases.append(phase[-1, :])\n",
    "        wts.append(wt[-1,:])\n",
    "        power_losses.append(power_loss.mean().item())\n",
    "    "
   ]
  },
  {
   "cell_type": "code",
   "execution_count": 18,
   "metadata": {},
   "outputs": [
    {
     "data": {
      "text/plain": [
       "[<matplotlib.lines.Line2D at 0x11c62ec50>]"
      ]
     },
     "execution_count": 18,
     "metadata": {},
     "output_type": "execute_result"
    },
    {
     "data": {
      "image/png": "[encoded data removed]",
      "text/plain": [
       "<Figure size 432x288 with 1 Axes>"
      ]
     },
     "metadata": {
      "needs_background": "light"
     },
     "output_type": "display_data"
    }
   ],
   "source": [
    "fig, ax = plt.subplots()\n",
    "ax.plot(losses)"
   ]
  },
  {
   "cell_type": "code",
   "execution_count": 19,
   "metadata": {},
   "outputs": [
    {
     "data": {
      "text/plain": [
       "[<matplotlib.lines.Line2D at 0x11d600ac8>]"
      ]
     },
     "execution_count": 19,
     "metadata": {},
     "output_type": "execute_result"
    },
    {
     "data": {
      "image/png": "[encoded data removed]",
      "text/plain": [
       "<Figure size 432x288 with 1 Axes>"
      ]
     },
     "metadata": {
      "needs_background": "light"
     },
     "output_type": "display_data"
    }
   ],
   "source": [
    "fig, ax = plt.subplots()\n",
    "ax.plot(power_losses)"
   ]
  },
  {
   "cell_type": "code",
   "execution_count": 23,
   "metadata": {},
   "outputs": [
    {
     "data": {
      "text/plain": [
       "[<matplotlib.lines.Line2D at 0x12db54e48>]"
      ]
     },
     "execution_count": 23,
     "metadata": {},
     "output_type": "execute_result"
    },
    {
     "data": {
      "image/png": "[encoded data removed]",
      "text/plain": [
       "<Figure size 432x288 with 1 Axes>"
      ]
     },
     "metadata": {
      "needs_background": "light"
     },
     "output_type": "display_data"
    }
   ],
   "source": [
    "fig, ax = plt.subplots()\n",
    "powersamp=powers[-1]\n",
    "ax.plot(powersamp/np.sum(powersamp))\n",
    "ax.plot(Ptarget)"
   ]
  }
 ],
 "metadata": {
  "kernelspec": {
   "display_name": "Python 3.7.3 64-bit ('py37': conda)",
   "language": "python",
   "name": "python37364bitpy37conda4b882b70ae264e62a9e5fa85939494f1"
  },
  "language_info": {
   "codemirror_mode": {
    "name": "ipython",
    "version": 3
   },
   "file_extension": ".py",
   "mimetype": "text/x-python",
   "name": "python",
   "nbconvert_exporter": "python",
   "pygments_lexer": "ipython3",
   "version": "3.7.3"
  }
 },
 "nbformat": 4,
 "nbformat_minor": 4
}
